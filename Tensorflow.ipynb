{
 "cells": [
  {
   "cell_type": "markdown",
   "metadata": {},
   "source": [
    "Tensorflow constant"
   ]
  },
  {
   "cell_type": "code",
   "execution_count": 1,
   "metadata": {},
   "outputs": [
    {
     "name": "stderr",
     "output_type": "stream",
     "text": [
      "/home/pranav/anaconda3/lib/python3.6/site-packages/h5py/__init__.py:36: FutureWarning: Conversion of the second argument of issubdtype from `float` to `np.floating` is deprecated. In future, it will be treated as `np.float64 == np.dtype(float).type`.\n",
      "  from ._conv import register_converters as _register_converters\n"
     ]
    },
    {
     "name": "stdout",
     "output_type": "stream",
     "text": [
      "3\n"
     ]
    }
   ],
   "source": [
    "import tensorflow as tf\n",
    "\n",
    "a = tf.constant(1)\n",
    "b = tf.constant(2)\n",
    "sum = a+b\n",
    "sess = tf.Session()\n",
    "print(sess.run(sum))"
   ]
  },
  {
   "cell_type": "markdown",
   "metadata": {},
   "source": [
    "Tensorflow placeholder"
   ]
  },
  {
   "cell_type": "code",
   "execution_count": 2,
   "metadata": {},
   "outputs": [
    {
     "name": "stdout",
     "output_type": "stream",
     "text": [
      "[4. 6.]\n"
     ]
    }
   ],
   "source": [
    "a = tf.placeholder(tf.float32)\n",
    "b = tf.placeholder(tf.float32)\n",
    "sum = a+b\n",
    "sess = tf.Session()\n",
    "print(sess.run(sum,{a:[1,2],b:[3,4]}))"
   ]
  },
  {
   "cell_type": "markdown",
   "metadata": {},
   "source": [
    "Tensorflow variable"
   ]
  },
  {
   "cell_type": "code",
   "execution_count": 3,
   "metadata": {},
   "outputs": [
    {
     "name": "stdout",
     "output_type": "stream",
     "text": [
      "0.0\n"
     ]
    }
   ],
   "source": [
    "#model parameters\n",
    "W = tf.Variable([-1.0],tf.float32)\n",
    "b = tf.Variable([1.0],tf.float32)\n",
    "#i/p o/p\n",
    "x = tf.placeholder(tf.float32)\n",
    "y = tf.placeholder(tf.float32)\n",
    "linear_model = W * x + b\n",
    "delta_square = tf.square(y-linear_model)\n",
    "loss = tf.reduce_sum(delta_square)\n",
    "init = tf.global_variables_initializer()\n",
    "sess = tf.Session()\n",
    "sess.run(init)\n",
    "print(sess.run(loss,{x:[1,2,3,4],y:[0,-1,-2,-3]}))"
   ]
  },
  {
   "cell_type": "markdown",
   "metadata": {},
   "source": [
    "Simple Linear Regression in Tensorflow"
   ]
  },
  {
   "cell_type": "code",
   "execution_count": 4,
   "metadata": {},
   "outputs": [
    {
     "name": "stdout",
     "output_type": "stream",
     "text": [
      "[array([-1.], dtype=float32), array([1.], dtype=float32)]\n"
     ]
    }
   ],
   "source": [
    "#model parameters\n",
    "W = tf.Variable([-1.0],tf.float32)\n",
    "b = tf.Variable([1.0],tf.float32)\n",
    "#i/p o/p\n",
    "x = tf.placeholder(tf.float32)\n",
    "y = tf.placeholder(tf.float32)\n",
    "linear_model = W * x + b\n",
    "#loss\n",
    "delta_square = tf.square(y-linear_model)\n",
    "loss = tf.reduce_sum(delta_square)\n",
    "#optimize\n",
    "optimizer = tf.train.GradientDescentOptimizer(0.01)\n",
    "train =optimizer.minimize(loss)\n",
    "init = tf.global_variables_initializer()\n",
    "sess = tf.Session()\n",
    "sess.run(init)\n",
    "for i in range(1000):\n",
    "    sess.run(train,{x:[1,2,3,4],y:[0,-1,-2,-3]})\n",
    "print(sess.run([W,b]))"
   ]
  },
  {
   "cell_type": "markdown",
   "metadata": {},
   "source": [
    "Neural Network using Tensorflow"
   ]
  },
  {
   "cell_type": "code",
   "execution_count": 6,
   "metadata": {},
   "outputs": [
    {
     "name": "stdout",
     "output_type": "stream",
     "text": [
      "n_dim:  60\n"
     ]
    }
   ],
   "source": [
    "#define the important parameters and variable to work with the tensors\n",
    "learning_rate = 0.3\n",
    "training_epochs = 1001\n",
    "cost_history = np.empty(shape=[1],dtype=float)\n",
    "n_dim = X.shape[1]\n",
    "print('n_dim: ',n_dim)\n",
    "n_class = 2\n",
    "model_path = '/home/pranav/Downloads/my python projects/tensor_model/new'"
   ]
  },
  {
   "cell_type": "code",
   "execution_count": 7,
   "metadata": {},
   "outputs": [],
   "source": [
    "#define the number of hidden layers and number of neurons for each layer\n",
    "n_hidden_1 = 60\n",
    "n_hidden_2 = 60\n",
    "n_hidden_3 = 60\n",
    "n_hidden_4 = 60\n",
    "\n",
    "x = tf.placeholder(tf.float32,[None, n_dim])\n",
    "W = tf.Variable(tf.zeros([n_dim, n_class]))\n",
    "b = tf.Variable(tf.zeros([n_class]))\n",
    "y_= tf.placeholder(tf.float32,[None,n_class])"
   ]
  },
  {
   "cell_type": "code",
   "execution_count": 8,
   "metadata": {},
   "outputs": [],
   "source": [
    "#Define the model\n",
    "def multilayer_perceptron(x, weights, biases):\n",
    "    #Hidden layer with sigmoid activation\n",
    "    layer_1 = tf.add(tf.matmul(x,weights['h1']),biases['b1'])\n",
    "    layer_1 = tf.nn.sigmoid(layer_1)\n",
    "    \n",
    "    #Hidden layer with sigmoid activation\n",
    "    layer_2 = tf.add(tf.matmul(layer_1,weights['h2']),biases['b2'])\n",
    "    layer_2 = tf.nn.sigmoid(layer_2)\n",
    "    \n",
    "    #Hidden layer with sigmoid activation\n",
    "    layer_3 = tf.add(tf.matmul(layer_2,weights['h3']),biases['b3'])\n",
    "    layer_3 = tf.nn.sigmoid(layer_3)\n",
    "    \n",
    "    #Hidden layer with RELU activation\n",
    "    layer_4 = tf.add(tf.matmul(layer_3,weights['h4']),biases['b4'])\n",
    "    layer_4 = tf.nn.relu(layer_4)\n",
    "    \n",
    "    #output layer with linear activation\n",
    "    out_layer = tf.add(tf.matmul(layer_4, weights['out']), biases['out'])\n",
    "    return out_layer\n",
    "\n",
    "#define weights and biases for each layer\n",
    "\n",
    "weights = {\n",
    "    'h1':tf.Variable(tf.truncated_normal([n_dim,n_hidden_1])),\n",
    "    'h2':tf.Variable(tf.truncated_normal([n_hidden_1,n_hidden_2])),\n",
    "    'h3':tf.Variable(tf.truncated_normal([n_hidden_2,n_hidden_3])),\n",
    "    'h4':tf.Variable(tf.truncated_normal([n_hidden_3,n_hidden_4])),\n",
    "    'out':tf.Variable(tf.truncated_normal([n_hidden_4,n_class])),    \n",
    "}\n",
    "\n",
    "biases = {\n",
    "    'b1':tf.Variable(tf.truncated_normal([n_hidden_1])),\n",
    "    'b2':tf.Variable(tf.truncated_normal([n_hidden_2])),\n",
    "    'b3':tf.Variable(tf.truncated_normal([n_hidden_3])),\n",
    "    'b4':tf.Variable(tf.truncated_normal([n_hidden_4])),\n",
    "    'out':tf.Variable(tf.truncated_normal([n_class])),    \n",
    "}"
   ]
  },
  {
   "cell_type": "code",
   "execution_count": 9,
   "metadata": {},
   "outputs": [],
   "source": [
    "#initialize all the variables\n",
    "init = tf.global_variables_initializer()\n",
    "saver = tf.train.Saver() #save  model\n",
    "\n",
    "#call your model defined\n",
    "y = multilayer_perceptron(x,weights,biases)\n",
    "\n",
    "#define cost function and optimizer\n",
    "cost_function = tf.reduce_mean(tf.nn.softmax_cross_entropy_with_logits_v2(logits=y,labels=y_))\n",
    "\n",
    "training_step = tf.train.GradientDescentOptimizer(learning_rate).minimize(cost_function)\n",
    "\n",
    "sess = tf.Session()\n",
    "sess.run(init)\n",
    "\n",
    "#calculate cost and accuracy for wach epoch\n",
    "mse_history = []\n",
    "accuracy_history=[]"
   ]
  },
  {
   "cell_type": "code",
   "execution_count": 10,
   "metadata": {
    "scrolled": false
   },
   "outputs": [
    {
     "name": "stdout",
     "output_type": "stream",
     "text": [
      "epoch :  0 cost :  116.978386 -MSE :  12117.004118433597 Train Accuracy :  0.45454547\n",
      "epoch :  50 cost :  0.66083235 -MSE :  1.9164079279627697 Train Accuracy :  0.6\n",
      "epoch :  100 cost :  0.6320531 -MSE :  2.0587736754332537 Train Accuracy :  0.6363636\n",
      "epoch :  150 cost :  0.5931043 -MSE :  2.008854187123027 Train Accuracy :  0.6727273\n",
      "epoch :  200 cost :  0.65081275 -MSE :  2.1994878945624143 Train Accuracy :  0.54545456\n",
      "epoch :  250 cost :  0.6274475 -MSE :  1.3187252467676616 Train Accuracy :  0.7090909\n",
      "epoch :  300 cost :  0.550956 -MSE :  1.4067529800229277 Train Accuracy :  0.73333335\n",
      "epoch :  350 cost :  0.4566906 -MSE :  1.6570774601065934 Train Accuracy :  0.75151515\n",
      "epoch :  400 cost :  0.47838566 -MSE :  2.3079953164481526 Train Accuracy :  0.76363635\n",
      "epoch :  450 cost :  0.4535384 -MSE :  3.150751926096846 Train Accuracy :  0.77575755\n",
      "epoch :  500 cost :  0.36526215 -MSE :  2.6501962175662563 Train Accuracy :  0.8181818\n",
      "epoch :  550 cost :  0.28060898 -MSE :  2.603992400491601 Train Accuracy :  0.8666667\n",
      "epoch :  600 cost :  0.55425 -MSE :  1.9040420744929758 Train Accuracy :  0.4909091\n",
      "epoch :  650 cost :  0.30641904 -MSE :  2.6547053590925818 Train Accuracy :  0.8787879\n",
      "epoch :  700 cost :  0.47518358 -MSE :  4.985982460818127 Train Accuracy :  0.75757575\n",
      "epoch :  750 cost :  0.24769115 -MSE :  4.462250795811367 Train Accuracy :  0.8848485\n",
      "epoch :  800 cost :  0.90868187 -MSE :  7.413863391601697 Train Accuracy :  0.55757576\n",
      "epoch :  850 cost :  0.5380361 -MSE :  4.958141969813734 Train Accuracy :  0.6242424\n",
      "epoch :  900 cost :  0.61498827 -MSE :  3.9237579745687934 Train Accuracy :  0.6727273\n",
      "epoch :  950 cost :  0.5558361 -MSE :  3.317804945557878 Train Accuracy :  0.6909091\n",
      "epoch :  1000 cost :  0.18248494 -MSE :  11.652156753962984 Train Accuracy :  0.92121214\n"
     ]
    }
   ],
   "source": [
    "for epoch in range(training_epochs):\n",
    "    sess.run(training_step, feed_dict={x:train_x, y_:train_y})\n",
    "    cost = sess.run(cost_function, feed_dict={x:train_x, y_:train_y})\n",
    "    cost_history = np.append(cost_history,cost)\n",
    "    correct_prediction = tf.equal(tf.argmax(y, 1), tf.argmax(y_, 1))\n",
    "    accuracy = tf.reduce_mean(tf.cast(correct_prediction,tf.float32))\n",
    "    pred_y = sess.run(y, feed_dict = {x:test_x})\n",
    "    mse = tf.reduce_mean(tf.square(pred_y - test_y))\n",
    "    mse_= sess.run(mse)\n",
    "    mse_history.append(mse_)\n",
    "    accuracy = (sess.run(accuracy,feed_dict={x:train_x, y_:train_y}))\n",
    "    accuracy_history.append(accuracy)\n",
    "    if (epoch%50 == 0):\n",
    "        print('epoch : ', epoch, 'cost : ', cost, '-MSE : ', mse_, 'Train Accuracy : ', accuracy)"
   ]
  },
  {
   "cell_type": "code",
   "execution_count": 11,
   "metadata": {},
   "outputs": [
    {
     "name": "stdout",
     "output_type": "stream",
     "text": [
      "Model saved in file: /home/pranav/Downloads/my python projects/tensor_model/new\n"
     ]
    }
   ],
   "source": [
    "save_path = saver.save(sess, model_path)\n",
    "print('Model saved in file: %s' % save_path)"
   ]
  },
  {
   "cell_type": "code",
   "execution_count": 12,
   "metadata": {},
   "outputs": [
    {
     "data": {
      "image/png": "[encoded data removed]",
      "text/plain": [
       "<Figure size 432x288 with 1 Axes>"
      ]
     },
     "metadata": {},
     "output_type": "display_data"
    }
   ],
   "source": [
    "# plot mse and accuracy graph\n",
    "plt.plot(mse_history, 'r')\n",
    "plt.show()"
   ]
  },
  {
   "cell_type": "code",
   "execution_count": 13,
   "metadata": {},
   "outputs": [
    {
     "data": {
      "image/png": "[encoded data removed]",
      "text/plain": [
       "<Figure size 432x288 with 1 Axes>"
      ]
     },
     "metadata": {},
     "output_type": "display_data"
    }
   ],
   "source": [
    "plt.plot(accuracy_history)\n",
    "plt.show()"
   ]
  },
  {
   "cell_type": "code",
   "execution_count": 14,
   "metadata": {},
   "outputs": [
    {
     "name": "stdout",
     "output_type": "stream",
     "text": [
      "Test accuracy:  0.92121214\n"
     ]
    }
   ],
   "source": [
    "#print final accuracy\n",
    "correction_prediction = tf.equal(tf.argmax(y,1),tf.argmax(y_,1))\n",
    "accuracy = tf.reduce_mean(tf.cast(correct_prediction, tf.float32))\n",
    "print('Test accuracy: ', (sess.run(accuracy,feed_dict={x:train_x, y_:train_y})))"
   ]
  },
  {
   "cell_type": "code",
   "execution_count": 15,
   "metadata": {},
   "outputs": [
    {
     "name": "stdout",
     "output_type": "stream",
     "text": [
      "MSE : 11.6522\n"
     ]
    }
   ],
   "source": [
    "#print final mean square errror\n",
    "pred_y = sess.run(y, feed_dict={x:test_x})\n",
    "mse = tf.reduce_mean(tf.square(pred_y - test_y))\n",
    "print('MSE : %.4f' % sess.run(mse))"
   ]
  },
  {
   "cell_type": "markdown",
   "metadata": {},
   "source": [
    "trying to reuse the model"
   ]
  },
  {
   "cell_type": "code",
   "execution_count": 16,
   "metadata": {},
   "outputs": [
    {
     "name": "stdout",
     "output_type": "stream",
     "text": [
      "INFO:tensorflow:Restoring parameters from /home/pranav/Downloads/my python projects/tensor_model/new\n"
     ]
    }
   ],
   "source": [
    "model_path = '/home/pranav/Downloads/my python projects/tensor_model/new'\n",
    "saver = tf.train.Saver()\n",
    "saver.restore(sess,model_path)\n",
    "prediction = tf.argmax(y,1)\n",
    "correct_prediction = tf.equal(prediction, tf.argmax(y_,1))\n",
    "accuracy = tf.reduce_mean(tf.cast(correct_prediction, tf.float32))\n",
    "\n",
    "for i in range(93,101):\n",
    "    prediction_run = sess.run(prediction, feed_dict={x: X[i].reshape(1,60)})"
   ]
  }
 ],
 "metadata": {
  "kernelspec": {
   "display_name": "Python 3",
   "language": "python",
   "name": "python3"
  },
  "language_info": {
   "codemirror_mode": {
    "name": "ipython",
    "version": 3
   },
   "file_extension": ".py",
   "mimetype": "text/x-python",
   "name": "python",
   "nbconvert_exporter": "python",
   "pygments_lexer": "ipython3",
   "version": "3.6.5"
  }
 },
 "nbformat": 4,
 "nbformat_minor": 2
}
