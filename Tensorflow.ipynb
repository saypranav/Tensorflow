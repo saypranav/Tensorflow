{
 "cells": [
  {
   "cell_type": "markdown",
   "metadata": {},
   "source": [
    "Tensorflow constant"
   ]
  },
  {
   "cell_type": "code",
   "execution_count": 1,
   "metadata": {},
   "outputs": [
    {
     "name": "stderr",
     "output_type": "stream",
     "text": [
      "/home/pranav/anaconda3/lib/python3.6/site-packages/h5py/__init__.py:36: FutureWarning: Conversion of the second argument of issubdtype from `float` to `np.floating` is deprecated. In future, it will be treated as `np.float64 == np.dtype(float).type`.\n",
      "  from ._conv import register_converters as _register_converters\n"
     ]
    },
    {
     "name": "stdout",
     "output_type": "stream",
     "text": [
      "3\n"
     ]
    }
   ],
   "source": [
    "import tensorflow as tf\n",
    "\n",
    "a = tf.constant(1)\n",
    "b = tf.constant(2)\n",
    "sum = a+b\n",
    "sess = tf.Session()\n",
    "print(sess.run(sum))"
   ]
  },
  {
   "cell_type": "markdown",
   "metadata": {},
   "source": [
    "Tensorflow placeholder"
   ]
  },
  {
   "cell_type": "code",
   "execution_count": 2,
   "metadata": {},
   "outputs": [
    {
     "name": "stdout",
     "output_type": "stream",
     "text": [
      "[4. 6.]\n"
     ]
    }
   ],
   "source": [
    "a = tf.placeholder(tf.float32)\n",
    "b = tf.placeholder(tf.float32)\n",
    "sum = a+b\n",
    "sess = tf.Session()\n",
    "print(sess.run(sum,{a:[1,2],b:[3,4]}))"
   ]
  },
  {
   "cell_type": "markdown",
   "metadata": {},
   "source": [
    "Tensorflow variable"
   ]
  },
  {
   "cell_type": "code",
   "execution_count": 3,
   "metadata": {},
   "outputs": [
    {
     "name": "stdout",
     "output_type": "stream",
     "text": [
      "0.0\n"
     ]
    }
   ],
   "source": [
    "#model parameters\n",
    "W = tf.Variable([-1.0],tf.float32)\n",
    "b = tf.Variable([1.0],tf.float32)\n",
    "#i/p o/p\n",
    "x = tf.placeholder(tf.float32)\n",
    "y = tf.placeholder(tf.float32)\n",
    "linear_model = W * x + b\n",
    "delta_square = tf.square(y-linear_model)\n",
    "loss = tf.reduce_sum(delta_square)\n",
    "init = tf.global_variables_initializer()\n",
    "sess = tf.Session()\n",
    "sess.run(init)\n",
    "print(sess.run(loss,{x:[1,2,3,4],y:[0,-1,-2,-3]}))"
   ]
  },
  {
   "cell_type": "markdown",
   "metadata": {},
   "source": [
    "Simple Linear Regression in Tensorflow"
   ]
  },
  {
   "cell_type": "code",
   "execution_count": 4,
   "metadata": {},
   "outputs": [
    {
     "name": "stdout",
     "output_type": "stream",
     "text": [
      "[array([-1.], dtype=float32), array([1.], dtype=float32)]\n"
     ]
    }
   ],
   "source": [
    "#model parameters\n",
    "W = tf.Variable([-1.0],tf.float32)\n",
    "b = tf.Variable([1.0],tf.float32)\n",
    "#i/p o/p\n",
    "x = tf.placeholder(tf.float32)\n",
    "y = tf.placeholder(tf.float32)\n",
    "linear_model = W * x + b\n",
    "#loss\n",
    "delta_square = tf.square(y-linear_model)\n",
    "loss = tf.reduce_sum(delta_square)\n",
    "#optimize\n",
    "optimizer = tf.train.GradientDescentOptimizer(0.01)\n",
    "train =optimizer.minimize(loss)\n",
    "init = tf.global_variables_initializer()\n",
    "sess = tf.Session()\n",
    "sess.run(init)\n",
    "for i in range(1000):\n",
    "    sess.run(train,{x:[1,2,3,4],y:[0,-1,-2,-3]})\n",
    "print(sess.run([W,b]))"
   ]
  },
  {
   "cell_type": "markdown",
   "metadata": {},
   "source": [
    "Neural Network using Tensorflow"
   ]
  },
  {
   "cell_type": "code",
   "execution_count": null,
   "metadata": {},
   "outputs": [],
   "source": [
    "import matplotlib.pyplot as plt\n",
    "import tensorflow as tf\n",
    "import numpy as np\n",
    "import pandas as pd\n",
    "from sklearn.preprocessing import LabelEncoder\n",
    "#from sklearn.preprocessing import OneHotEncoder\n",
    "from sklearn.utils import shuffle\n",
    "from sklearn.model_selection import train_test_split\n",
    "\n",
    "def read_dataset():\n",
    "    df = pd.read_csv('sonar.all-data')\n",
    "    X = df.iloc[:,:60].values\n",
    "    y = df[df.columns[-1]]\n",
    "    print('df: ',df.shape)\n",
    "    #encode the dependent vatiable\n",
    "    encoder = LabelEncoder()\n",
    "    encoder.fit(y)\n",
    "    y = encoder.transform(y)\n",
    "    Y = one_hot_encoder(y)\n",
    "    print('X.shape :',X.shape)\n",
    "    return(X,Y)\n",
    "\n",
    "def one_hot_encoder(labels):\n",
    "    n_labels = len(labels)\n",
    "    n_unique_labels = len(np.unique(labels))\n",
    "    one_hot_encode = np.zeros((n_labels, n_unique_labels))\n",
    "    one_hot_encode[np.arange(n_labels), labels] = 1\n",
    "    return one_hot_encode\n",
    "\n",
    "X,Y = read_dataset()\n",
    "X,Y = shuffle(X,Y,random_state=1)\n",
    "\n",
    "#convert dataset into train-test part\n",
    "train_x, test_x, train_y, test_y = train_test_split(X, Y, test_size=0.20, random_state=415)\n",
    "\n",
    "#inspect the shape of training and testing data\n",
    "print('train_x.shape :',train_x.shape)\n",
    "print('train_y.shape :',train_y.shape)\n",
    "print('test_x.shape :',test_x.shape)"
   ]
  },
  {
   "cell_type": "code",
   "execution_count": null,
   "metadata": {},
   "outputs": [],
   "source": [
    "#define the important parameters and variable to work with the tensors\n",
    "learning_rate = 0.3\n",
    "training_epochs = 1001\n",
    "cost_history = np.empty(shape=[1],dtype=float)\n",
    "n_dim = X.shape[1]\n",
    "print('n_dim: ',n_dim)\n",
    "n_class = 2\n",
    "model_path = '/home/pranav/Downloads/my python projects/tensor_model/new'"
   ]
  },
  {
   "cell_type": "code",
   "execution_count": null,
   "metadata": {},
   "outputs": [],
   "source": [
    "#define the number of hidden layers and number of neurons for each layer\n",
    "n_hidden_1 = 60\n",
    "n_hidden_2 = 60\n",
    "n_hidden_3 = 60\n",
    "n_hidden_4 = 60\n",
    "\n",
    "x = tf.placeholder(tf.float32,[None, n_dim])\n",
    "W = tf.Variable(tf.zeros([n_dim, n_class]))\n",
    "b = tf.Variable(tf.zeros([n_class]))\n",
    "y_= tf.placeholder(tf.float32,[None,n_class])"
   ]
  },
  {
   "cell_type": "code",
   "execution_count": null,
   "metadata": {},
   "outputs": [],
   "source": [
    "#Define the model\n",
    "def multilayer_perceptron(x, weights, biases):\n",
    "    #Hidden layer with sigmoid activation\n",
    "    layer_1 = tf.add(tf.matmul(x,weights['h1']),biases['b1'])\n",
    "    layer_1 = tf.nn.sigmoid(layer_1)\n",
    "    \n",
    "    #Hidden layer with sigmoid activation\n",
    "    layer_2 = tf.add(tf.matmul(layer_1,weights['h2']),biases['b2'])\n",
    "    layer_2 = tf.nn.sigmoid(layer_2)\n",
    "    \n",
    "    #Hidden layer with sigmoid activation\n",
    "    layer_3 = tf.add(tf.matmul(layer_2,weights['h3']),biases['b3'])\n",
    "    layer_3 = tf.nn.sigmoid(layer_3)\n",
    "    \n",
    "    #Hidden layer with RELU activation\n",
    "    layer_4 = tf.add(tf.matmul(layer_3,weights['h4']),biases['b4'])\n",
    "    layer_4 = tf.nn.relu(layer_4)\n",
    "    \n",
    "    #output layer with linear activation\n",
    "    out_layer = tf.add(tf.matmul(layer_4, weights['out']), biases['out'])\n",
    "    return out_layer\n",
    "\n",
    "#define weights and biases for each layer\n",
    "\n",
    "weights = {\n",
    "    'h1':tf.Variable(tf.truncated_normal([n_dim,n_hidden_1])),\n",
    "    'h2':tf.Variable(tf.truncated_normal([n_hidden_1,n_hidden_2])),\n",
    "    'h3':tf.Variable(tf.truncated_normal([n_hidden_2,n_hidden_3])),\n",
    "    'h4':tf.Variable(tf.truncated_normal([n_hidden_3,n_hidden_4])),\n",
    "    'out':tf.Variable(tf.truncated_normal([n_hidden_4,n_class])),    \n",
    "}\n",
    "\n",
    "biases = {\n",
    "    'b1':tf.Variable(tf.truncated_normal([n_hidden_1])),\n",
    "    'b2':tf.Variable(tf.truncated_normal([n_hidden_2])),\n",
    "    'b3':tf.Variable(tf.truncated_normal([n_hidden_3])),\n",
    "    'b4':tf.Variable(tf.truncated_normal([n_hidden_4])),\n",
    "    'out':tf.Variable(tf.truncated_normal([n_class])),    \n",
    "}"
   ]
  },
  {
   "cell_type": "code",
   "execution_count": 5,
   "metadata": {},
   "outputs": [
    {
     "name": "stdout",
     "output_type": "stream",
     "text": [
      "df:  (207, 61)\n",
      "X.shape : (207, 60)\n",
      "train_x.shape : (165, 60)\n",
      "train_y.shape : (165, 2)\n",
      "test_x.shape : (42, 60)\n",
      "n_dim:  60\n"
     ]
    }
   ],
   "source": [
    "#initialize all the variables\n",
    "init = tf.global_variables_initializer()\n",
    "saver = tf.train.Saver() #save  model\n",
    "\n",
    "#call your model defined\n",
    "y = multilayer_perceptron(x,weights,biases)\n",
    "\n",
    "#define cost function and optimizer\n",
    "cost_function = tf.reduce_mean(tf.nn.softmax_cross_entropy_with_logits_v2(logits=y,labels=y_))\n",
    "\n",
    "training_step = tf.train.GradientDescentOptimizer(learning_rate).minimize(cost_function)\n",
    "\n",
    "sess = tf.Session()\n",
    "sess.run(init)\n",
    "\n",
    "#calculate cost and accuracy for wach epoch\n",
    "mse_history = []\n",
    "accuracy_history=[]"
   ]
  },
  {
   "cell_type": "code",
   "execution_count": 6,
   "metadata": {
    "scrolled": false
   },
   "outputs": [
    {
     "name": "stdout",
     "output_type": "stream",
     "text": [
      "epoch :  0 cost :  192.47263 -MSE :  45740.86756389842 Train Accuracy :  0.54545456\n",
      "epoch :  50 cost :  0.67170376 -MSE :  0.7196550628827337 Train Accuracy :  0.55757576\n",
      "epoch :  100 cost :  0.6377657 -MSE :  0.6743620398006567 Train Accuracy :  0.6121212\n",
      "epoch :  150 cost :  0.5950832 -MSE :  0.735226244005385 Train Accuracy :  0.6666667\n",
      "epoch :  200 cost :  0.5852213 -MSE :  1.3201640652469269 Train Accuracy :  0.6909091\n",
      "epoch :  250 cost :  0.6683163 -MSE :  4.054756859252228 Train Accuracy :  0.57575756\n",
      "epoch :  300 cost :  0.5057909 -MSE :  1.5296317172937774 Train Accuracy :  0.7939394\n",
      "epoch :  350 cost :  0.5116733 -MSE :  1.8306790738617214 Train Accuracy :  0.73939395\n",
      "epoch :  400 cost :  0.5149875 -MSE :  0.6166885494954001 Train Accuracy :  0.8121212\n",
      "epoch :  450 cost :  0.41653922 -MSE :  4.819959963892769 Train Accuracy :  0.7939394\n",
      "epoch :  500 cost :  0.393206 -MSE :  5.12228396657999 Train Accuracy :  0.7939394\n",
      "epoch :  550 cost :  0.34895453 -MSE :  6.824231649345843 Train Accuracy :  0.8181818\n",
      "epoch :  600 cost :  0.27628505 -MSE :  4.433765359608815 Train Accuracy :  0.8606061\n",
      "epoch :  650 cost :  0.48995057 -MSE :  1.2158890292623619 Train Accuracy :  0.6787879\n",
      "epoch :  700 cost :  0.20056155 -MSE :  5.830776474786769 Train Accuracy :  0.93939394\n",
      "epoch :  750 cost :  0.16200945 -MSE :  7.085231227859266 Train Accuracy :  0.95757574\n",
      "epoch :  800 cost :  0.16403398 -MSE :  6.706813938413458 Train Accuracy :  0.96363634\n",
      "epoch :  850 cost :  0.10682597 -MSE :  11.37535651879987 Train Accuracy :  0.9757576\n",
      "epoch :  900 cost :  0.20817538 -MSE :  10.165982868348229 Train Accuracy :  0.90909094\n",
      "epoch :  950 cost :  0.19557895 -MSE :  5.8393726755810595 Train Accuracy :  0.9818182\n",
      "epoch :  1000 cost :  0.106527545 -MSE :  9.765063808296347 Train Accuracy :  0.9757576\n"
     ]
    }
   ],
   "source": [
    "for epoch in range(training_epochs):\n",
    "    sess.run(training_step, feed_dict={x:train_x, y_:train_y})\n",
    "    cost = sess.run(cost_function, feed_dict={x:train_x, y_:train_y})\n",
    "    cost_history = np.append(cost_history,cost)\n",
    "    correct_prediction = tf.equal(tf.argmax(y, 1), tf.argmax(y_, 1))\n",
    "    accuracy = tf.reduce_mean(tf.cast(correct_prediction,tf.float32))\n",
    "    pred_y = sess.run(y, feed_dict = {x:test_x})\n",
    "    mse = tf.reduce_mean(tf.square(pred_y - test_y))\n",
    "    mse_= sess.run(mse)\n",
    "    mse_history.append(mse_)\n",
    "    accuracy = (sess.run(accuracy,feed_dict={x:train_x, y_:train_y}))\n",
    "    accuracy_history.append(accuracy)\n",
    "    if (epoch%50 == 0):\n",
    "        print('epoch : ', epoch, 'cost : ', cost, '-MSE : ', mse_, 'Train Accuracy : ', accuracy)"
   ]
  },
  {
   "cell_type": "code",
   "execution_count": 7,
   "metadata": {},
   "outputs": [
    {
     "name": "stdout",
     "output_type": "stream",
     "text": [
      "Model saved in file: /home/pranav/Downloads/my python projects/tensor_model/new\n"
     ]
    }
   ],
   "source": [
    "save_path = saver.save(sess, model_path)\n",
    "print('Model saved in file: %s' % save_path)"
   ]
  },
  {
   "cell_type": "code",
   "execution_count": 8,
   "metadata": {},
   "outputs": [
    {
     "data": {
      "image/png": "[encoded data removed]",
      "text/plain": [
       "<Figure size 432x288 with 1 Axes>"
      ]
     },
     "metadata": {},
     "output_type": "display_data"
    }
   ],
   "source": [
    "# plot mse and accuracy graph\n",
    "plt.plot(mse_history, 'r')\n",
    "plt.show()"
   ]
  },
  {
   "cell_type": "code",
   "execution_count": 9,
   "metadata": {},
   "outputs": [
    {
     "data": {
      "image/png": "[encoded data removed]",
      "text/plain": [
       "<Figure size 432x288 with 1 Axes>"
      ]
     },
     "metadata": {},
     "output_type": "display_data"
    }
   ],
   "source": [
    "plt.plot(accuracy_history)\n",
    "plt.show()"
   ]
  },
  {
   "cell_type": "code",
   "execution_count": 10,
   "metadata": {},
   "outputs": [
    {
     "name": "stdout",
     "output_type": "stream",
     "text": [
      "Test accuracy:  0.9757576\n"
     ]
    }
   ],
   "source": [
    "#print final accuracy\n",
    "correction_prediction = tf.equal(tf.argmax(y,1),tf.argmax(y_,1))\n",
    "accuracy = tf.reduce_mean(tf.cast(correct_prediction, tf.float32))\n",
    "print('Test accuracy: ', (sess.run(accuracy,feed_dict={x:train_x, y_:train_y})))"
   ]
  },
  {
   "cell_type": "code",
   "execution_count": 11,
   "metadata": {},
   "outputs": [
    {
     "name": "stdout",
     "output_type": "stream",
     "text": [
      "MSE : 9.7651\n"
     ]
    }
   ],
   "source": [
    "#print final mean square errror\n",
    "pred_y = sess.run(y, feed_dict={x:test_x})\n",
    "mse = tf.reduce_mean(tf.square(pred_y - test_y))\n",
    "print('MSE : %.4f' % sess.run(mse))"
   ]
  },
  {
   "cell_type": "markdown",
   "metadata": {},
   "source": [
    "trying to reuse the model"
   ]
  },
  {
   "cell_type": "markdown",
   "metadata": {},
   "source": [
    "model_path = '/home/pranav/Downloads/my python projects/tensor_model/new'\n",
    "saver = tf.train.Saver()\n",
    "saver.restore(sess,model_path)\n",
    "prediction = tf.argmax(y,1)\n",
    "correct_prediction = tf.equal(prediction, tf.argmax(y_,1))\n",
    "accuracy = tf.reduce_mean(tf.cast(correct_prediction, tf.float32))\n",
    "\n",
    "for i in range(93,101):\n",
    "    prediction_run = sess.run(prediction, feed_dict={x: X[i].reshape(1,60)})"
   ]
  }
 ],
 "metadata": {
  "kernelspec": {
   "display_name": "Python 3",
   "language": "python",
   "name": "python3"
  },
  "language_info": {
   "codemirror_mode": {
    "name": "ipython",
    "version": 3
   },
   "file_extension": ".py",
   "mimetype": "text/x-python",
   "name": "python",
   "nbconvert_exporter": "python",
   "pygments_lexer": "ipython3",
   "version": "3.6.5"
  }
 },
 "nbformat": 4,
 "nbformat_minor": 2
}
